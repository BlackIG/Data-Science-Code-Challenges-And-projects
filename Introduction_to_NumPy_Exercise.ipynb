{
  "cells": [
    {
      "cell_type": "markdown",
      "metadata": {
        "id": "view-in-github",
        "colab_type": "text"
      },
      "source": [
        "<a href=\"https://colab.research.google.com/github/BlackIG/Introduction_to_NumPy_Exercise/blob/main/Introduction_to_NumPy_Exercise.ipynb\" target=\"_parent\"><img src=\"https://colab.research.google.com/assets/colab-badge.svg\" alt=\"Open In Colab\"/></a>"
      ]
    },
    {
      "cell_type": "markdown",
      "id": "cd88ea27",
      "metadata": {
        "id": "cd88ea27"
      },
      "source": [
        "<div align=\"center\" style=\" font-size: 80%; text-align: center; margin: 0 auto\">\n",
        "<img src=\"https://raw.githubusercontent.com/Explore-AI/Pictures/master/Python-Notebook-Banners/Exercise.png\"  style=\"display: block; margin-left: auto; margin-right: auto;\";/>\n",
        "</div>"
      ]
    },
    {
      "cell_type": "markdown",
      "id": "f662d169",
      "metadata": {
        "id": "f662d169"
      },
      "source": [
        "# Exercise: Introduction to NumPy\n",
        "© ExploreAI Academy"
      ]
    },
    {
      "cell_type": "markdown",
      "id": "26af890c",
      "metadata": {
        "id": "26af890c"
      },
      "source": [
        "In this notebook, we explore the fundamentals of NumPy for efficient data manipulation and analysis in Python.\n"
      ]
    },
    {
      "cell_type": "markdown",
      "id": "2d230d14",
      "metadata": {
        "tags": [],
        "id": "2d230d14"
      },
      "source": [
        "## Learning objectives\n",
        "\n",
        "In this train we will learn:\n",
        "- How to create, reshape, and manipulate arrays using NumPy.\n",
        "- How to access and modify elements in NumPy arrays.\n",
        "- Apply key NumPy functions to analyse real-world problems."
      ]
    },
    {
      "cell_type": "markdown",
      "id": "de45a481",
      "metadata": {
        "id": "de45a481"
      },
      "source": [
        "## Exercises"
      ]
    },
    {
      "cell_type": "code",
      "execution_count": 1,
      "metadata": {
        "id": "Xm0SBW76uMZ0"
      },
      "outputs": [],
      "source": [
        "import numpy as np"
      ],
      "id": "Xm0SBW76uMZ0"
    },
    {
      "cell_type": "markdown",
      "source": [
        "**My Solution**"
      ],
      "metadata": {
        "id": "byewP5GXAJm5"
      },
      "id": "byewP5GXAJm5"
    },
    {
      "cell_type": "markdown",
      "id": "5a0b7683",
      "metadata": {
        "tags": [],
        "id": "5a0b7683"
      },
      "source": [
        "### Exercise 1\n",
        "\n",
        "Given a 2D Numpy array `pollution_data `representing daily air quality index values of a city for a week (rows for days and columns for different pollutants), write a code snippet to return the day (row) with the highest average pollution level."
      ]
    },
    {
      "cell_type": "code",
      "execution_count": 2,
      "metadata": {
        "id": "GgXR2gbBuMZ2"
      },
      "outputs": [],
      "source": [
        "pollution_data = np.array([[45, 65, 70], [55, 60, 50], [60, 58, 67]])"
      ],
      "id": "GgXR2gbBuMZ2"
    },
    {
      "cell_type": "code",
      "execution_count": 13,
      "id": "c2ee76ec",
      "metadata": {
        "colab": {
          "base_uri": "https://localhost:8080/"
        },
        "id": "c2ee76ec",
        "outputId": "ce82189a-b575-476e-875c-23704536c346"
      },
      "outputs": [
        {
          "output_type": "stream",
          "name": "stdout",
          "text": [
            "[60 58 67]\n"
          ]
        }
      ],
      "source": [
        "# insert code here\n",
        "most_polluted_day_index = pollution_data[np.argmax(np.average(pollution_data, axis=1))]\n",
        "print(most_polluted_day_index)"
      ]
    },
    {
      "cell_type": "markdown",
      "id": "dc9b7dc6",
      "metadata": {
        "id": "dc9b7dc6"
      },
      "source": [
        "### Exercise 2\n",
        "\n",
        "A forest department is monitoring deforestation by analysing satellite data of 5 similarly sized regions. When the monitoring started, each region had full forest coverage (i.e. 100). The most recent data collected has been stored in a 1D Numpy array `forest_coverage`, where each element represents the percentage of forest cover in different regions. Write code to calculate the total percentage of coverage **lost**, if each 1% reduction in forest cover equals 100 square kilometers."
      ]
    },
    {
      "cell_type": "code",
      "execution_count": 14,
      "metadata": {
        "id": "gC0btjF5uMZ4"
      },
      "outputs": [],
      "source": [
        "forest_coverage = np.array([70, 80, 65, 90, 85])"
      ],
      "id": "gC0btjF5uMZ4"
    },
    {
      "cell_type": "code",
      "execution_count": 22,
      "id": "ae48fab0",
      "metadata": {
        "colab": {
          "base_uri": "https://localhost:8080/"
        },
        "id": "ae48fab0",
        "outputId": "ea0460b9-45b5-4c41-d428-022596fa5858"
      },
      "outputs": [
        {
          "output_type": "stream",
          "name": "stdout",
          "text": [
            "11000\n"
          ]
        }
      ],
      "source": [
        "# insert code here\n",
        "initial_coverage = 100\n",
        "sum_proportion_lost = (initial_coverage - forest_coverage).sum()\n",
        "#in square kilometers\n",
        "total_reduction = sum_proportion_lost * 100\n",
        "print(total_reduction)"
      ]
    },
    {
      "cell_type": "markdown",
      "metadata": {
        "id": "mf9eA9YbuMZ4"
      },
      "source": [
        "### Exercise 3\n",
        "\n",
        "For a study on water conservation, we have a 2D Numpy array `water_quality` representing different water quality parameters (columns) for various water bodies (rows). Write code to find the water body index (row index) with the worst average quality parameter."
      ],
      "id": "mf9eA9YbuMZ4"
    },
    {
      "cell_type": "code",
      "execution_count": 23,
      "metadata": {
        "id": "YN3OqTr5uMZ5"
      },
      "outputs": [],
      "source": [
        "water_quality = np.array([[7.8, 6.5, 8.0], [5.4, 7.2, 6.5]])"
      ],
      "id": "YN3OqTr5uMZ5"
    },
    {
      "cell_type": "code",
      "execution_count": 25,
      "metadata": {
        "colab": {
          "base_uri": "https://localhost:8080/"
        },
        "id": "OViwwrvQuMZ5",
        "outputId": "528d4e4a-b031-4b70-a1a2-69ed0b2e3a03"
      },
      "outputs": [
        {
          "output_type": "execute_result",
          "data": {
            "text/plain": [
              "0"
            ]
          },
          "metadata": {},
          "execution_count": 25
        }
      ],
      "source": [
        "# insert code here\n",
        "worst_water_quality_index = np.argmin(water_quality.mean(axis=1))\n",
        "print(worst_water_quality_index)"
      ],
      "id": "OViwwrvQuMZ5"
    },
    {
      "cell_type": "markdown",
      "metadata": {
        "id": "pKDUmOyluMZ5"
      },
      "source": [
        "### Exercise 4\n",
        "\n",
        "Biologists tracking caracal movement have recorded the number of caracals spotted in different regions in a 2D Numpy array animal_sightings. Each row represents a different region, and columns represent different days. Write a code snippet to find the index of the region with the highest average number of sightings."
      ],
      "id": "pKDUmOyluMZ5"
    },
    {
      "cell_type": "code",
      "execution_count": 31,
      "metadata": {
        "id": "5x0GsdpQuMZ5"
      },
      "outputs": [],
      "source": [
        "animal_sightings = np.array([[5, 7, 8], [3, 4, 6], [9, 10, 7]])"
      ],
      "id": "5x0GsdpQuMZ5"
    },
    {
      "cell_type": "code",
      "execution_count": 30,
      "metadata": {
        "colab": {
          "base_uri": "https://localhost:8080/"
        },
        "id": "iFVxdfg8uMZ6",
        "outputId": "db997a11-c88c-4b0e-a66c-2c4345588eb7"
      },
      "outputs": [
        {
          "output_type": "stream",
          "name": "stdout",
          "text": [
            "2\n"
          ]
        }
      ],
      "source": [
        "# insert code here\n",
        "highest_sightings_region_index = np.argmax(animal_sightings.mean(axis=1))\n",
        "print(highest_sightings_region_index)"
      ],
      "id": "iFVxdfg8uMZ6"
    },
    {
      "cell_type": "markdown",
      "metadata": {
        "id": "jPs_wDBzuMZ6"
      },
      "source": [
        "### Exercise 5\n",
        "\n",
        "`np.reshape()` allows us to change the shape of an array without changing its data. For example, we can reshape a 1D array into a 2D array (matrix) or vice versa, as long as the total number of elements remains the same. Remember to read more about functions in the NumPy documentation if anything is unclear.\n",
        "\n",
        "Biologists have collected data on bird sightings in a region over a month, stored in a 1D Numpy array where each element represents the number of sightings on a particular day. Reshape this data into a 2D array (matrix) representing weeks and days (assume 4 weeks in a month, 7 days per week), and calculate the total sightings for each week."
      ],
      "id": "jPs_wDBzuMZ6"
    },
    {
      "cell_type": "code",
      "execution_count": 33,
      "metadata": {
        "id": "IaXRmaXruMZ6"
      },
      "outputs": [],
      "source": [
        "bird_sightings = np.array([3, 4, 2, 5, 1, 0, 4, 3, 5, 2, 1, 7, 8, 1, 2, 3, 4, 1, 0, 5, 6, 2, 3, 4, 1, 4, 6, 7])"
      ],
      "id": "IaXRmaXruMZ6"
    },
    {
      "cell_type": "code",
      "execution_count": 35,
      "metadata": {
        "colab": {
          "base_uri": "https://localhost:8080/"
        },
        "id": "EMd6GDEQuMZ6",
        "outputId": "08a2e0f7-5a49-4d78-cb4d-78a992725a73"
      },
      "outputs": [
        {
          "output_type": "stream",
          "name": "stdout",
          "text": [
            "[[3 4 2 5 1 0 4]\n",
            " [3 5 2 1 7 8 1]\n",
            " [2 3 4 1 0 5 6]\n",
            " [2 3 4 1 4 6 7]]\n"
          ]
        }
      ],
      "source": [
        "# insert code here\n",
        "reshaped_sightings = bird_sightings.reshape(4, 7)\n",
        "total_sightings_per_week = reshaped_sightings.sum(axis=1)\n",
        "\n",
        "print(total_sightings_per_week)"
      ],
      "id": "EMd6GDEQuMZ6"
    },
    {
      "cell_type": "markdown",
      "metadata": {
        "id": "nav35kZuuMZ6"
      },
      "source": [
        "### Exercise 6\n",
        "\n",
        "`np.transpose()` is a NumPy function that flips a matrix over its diagonal, switching the row and column indices of the array. This means that the first row becomes the first column, the second row becomes the second column, and so on.\n",
        "\n",
        "Meteorologists have recorded temperature and precipitation data over a year in a 2D array (rows for months, columns for temperature and precipitation). Transpose the array so that rows represent temperature and precipitation, and columns represent months. Then, calculate the average temperature and precipitation over the year."
      ],
      "id": "nav35kZuuMZ6"
    },
    {
      "cell_type": "code",
      "execution_count": 37,
      "metadata": {
        "id": "wRzd4FmOuMZ7"
      },
      "outputs": [],
      "source": [
        "climate_data = np.array([[22, 50], [25, 43], [28, 35], [30, 20], [27, 25], [25, 30], [23, 40], [24, 55], [22, 60], [20, 65], [18, 70], [22, 58]])"
      ],
      "id": "wRzd4FmOuMZ7"
    },
    {
      "cell_type": "code",
      "execution_count": 39,
      "metadata": {
        "colab": {
          "base_uri": "https://localhost:8080/"
        },
        "id": "7YYvR8FUuMZ7",
        "outputId": "3bd21cd6-52a5-46e3-bd7b-526cee94b113"
      },
      "outputs": [
        {
          "output_type": "stream",
          "name": "stdout",
          "text": [
            "[[22 25 28 30 27 25 23 24 22 20 18 22]\n",
            " [50 43 35 20 25 30 40 55 60 65 70 58]]\n",
            "Average Temperature over the Year: 23.833333333333332\n",
            "Average Precipitation over the Year: 45.916666666666664\n"
          ]
        }
      ],
      "source": [
        "# insert code here\n",
        "# Transpose the array\n",
        "transposed_data = np.transpose(climate_data)\n",
        "\n",
        "# Calculate the average temperature and precipitation over the year\n",
        "average_temperature = np.mean(transposed_data[0])\n",
        "average_precipitation = np.mean(transposed_data[1])\n",
        "print(transposed_data)\n",
        "print(\"Average Temperature over the Year:\", average_temperature)\n",
        "print(\"Average Precipitation over the Year:\", average_precipitation)"
      ],
      "id": "7YYvR8FUuMZ7"
    },
    {
      "cell_type": "markdown",
      "id": "555dea0d",
      "metadata": {
        "id": "555dea0d"
      },
      "source": [
        "## Explore AI Solutions"
      ]
    },
    {
      "cell_type": "markdown",
      "id": "9ff8f391",
      "metadata": {
        "id": "9ff8f391"
      },
      "source": [
        "### Exercise 1\n",
        "\n",
        "`pollution_data.mean(axis=1)` calculates the average pollution level for each day (row). `np.argmax `finds the index of the day with the highest average pollution level."
      ]
    },
    {
      "cell_type": "code",
      "execution_count": null,
      "metadata": {
        "id": "6wMMfBZhuMZ7"
      },
      "outputs": [],
      "source": [
        "import numpy as np"
      ],
      "id": "6wMMfBZhuMZ7"
    },
    {
      "cell_type": "code",
      "execution_count": null,
      "id": "ad52ad95",
      "metadata": {
        "id": "ad52ad95"
      },
      "outputs": [],
      "source": [
        "pollution_data = np.array([[45, 65, 70], [55, 60, 50], [60, 58, 67]])\n",
        "\n",
        "most_polluted_day_index = np.argmax(pollution_data.mean(axis=1))\n",
        "\n",
        "print(pollution_data[most_polluted_day_index])"
      ]
    },
    {
      "cell_type": "markdown",
      "id": "a10363b6",
      "metadata": {
        "id": "a10363b6"
      },
      "source": [
        "### Exercise 2\n",
        "\n",
        "`100 - forest_coverage` calculates the proportion of deforestation for each region. Summing these loss values and multiplying by 100 (conversion to square kilometers), gives the total forest cover lost in square kilometers.\n"
      ]
    },
    {
      "cell_type": "code",
      "execution_count": null,
      "id": "09386d51",
      "metadata": {
        "id": "09386d51"
      },
      "outputs": [],
      "source": [
        "forest_coverage = np.array([70, 80, 65, 90, 85])\n",
        "\n",
        "total_forest_cover_lost = (100 - forest_coverage).sum() * 100\n",
        "\n",
        "print(total_forest_cover_lost)"
      ]
    },
    {
      "cell_type": "markdown",
      "metadata": {
        "id": "E3SyjPNHuMZ8"
      },
      "source": [
        "### Exercise 3\n",
        "\n",
        "`water_quality.mean(axis=1)` computes the average quality parameter for each water body (row). `np.argmin` finds the index of the water body with the worst average quality.\n"
      ],
      "id": "E3SyjPNHuMZ8"
    },
    {
      "cell_type": "code",
      "execution_count": 26,
      "metadata": {
        "colab": {
          "base_uri": "https://localhost:8080/"
        },
        "id": "CSfb2kvWuMZ8",
        "outputId": "85917046-ded0-4d38-dd1c-05df03aafab4"
      },
      "outputs": [
        {
          "output_type": "stream",
          "name": "stdout",
          "text": [
            "1\n"
          ]
        }
      ],
      "source": [
        "water_quality = np.array([[7.8, 6.5, 8.0], [5.4, 7.2, 6.5]])\n",
        "\n",
        "worst_water_quality_index = np.argmin(water_quality.mean(axis=1))\n",
        "\n",
        "print(worst_water_quality_index)"
      ],
      "id": "CSfb2kvWuMZ8"
    },
    {
      "cell_type": "markdown",
      "metadata": {
        "id": "BK6B1Hv4uMZ8"
      },
      "source": [
        "### Exercise 4\n",
        "\n",
        "`animal_sightings.mean(axis=1)` computes the average number of sightings per region. `np.argmax` finds the index of the region with the highest average.\n"
      ],
      "id": "BK6B1Hv4uMZ8"
    },
    {
      "cell_type": "code",
      "execution_count": null,
      "metadata": {
        "id": "nnw_PAjBuMZ8"
      },
      "outputs": [],
      "source": [
        "animal_sightings = np.array([[5, 7, 8], [3, 4, 6], [9, 10, 7]])\n",
        "\n",
        "highest_sightings_region_index = np.argmax(animal_sightings.mean(axis=1))\n",
        "\n",
        "print(highest_sightings_region_index)"
      ],
      "id": "nnw_PAjBuMZ8"
    },
    {
      "cell_type": "markdown",
      "metadata": {
        "id": "tVVKdaHxuMZ8"
      },
      "source": [
        "### Exercise 5\n",
        "\n",
        "The `reshape(4, 7)` function reshapes the 1D array into a 2D array with 4 rows (weeks) and 7 columns (days). `sum(axis=1)` calculates the sum along the rows (each week), providing the total bird sightings per week.\n"
      ],
      "id": "tVVKdaHxuMZ8"
    },
    {
      "cell_type": "code",
      "execution_count": null,
      "metadata": {
        "id": "S4G96_muuMZ9"
      },
      "outputs": [],
      "source": [
        "bird_sightings = np.array([3, 4, 2, 5, 1, 0, 4, 3, 5, 2, 1, 7, 8, 1, 2, 3, 4, 1, 0, 5, 6, 2, 3, 4, 1, 4, 6, 7])\n",
        "\n",
        "reshaped_sightings = bird_sightings.reshape(4, 7)\n",
        "total_sightings_per_week = reshaped_sightings.sum(axis=1)\n",
        "\n",
        "print(total_sightings_per_week)"
      ],
      "id": "S4G96_muuMZ9"
    },
    {
      "cell_type": "markdown",
      "metadata": {
        "id": "oqxMmZ5ouMZ9"
      },
      "source": [
        "### Exercise 6\n",
        "\n",
        "`transpose()` changes the shape of `climate_data` so that rows and columns are swapped. Now, the first row represents temperatures and the second row represents precipitation for each month. The `mean()` function calculates the average value for each of these rows, giving the average temperature and precipitation over the year.\n"
      ],
      "id": "oqxMmZ5ouMZ9"
    },
    {
      "cell_type": "code",
      "execution_count": null,
      "metadata": {
        "id": "flGLcBCHuMZ9"
      },
      "outputs": [],
      "source": [
        "climate_data = np.array([[22, 50], [25, 43], [28, 35], [30, 20], [27, 25], [25, 30], [23, 40], [24, 55], [22, 60], [20, 65], [18, 70], [22, 58]])\n",
        "\n",
        "transposed_climate_data = climate_data.transpose()\n",
        "print(transposed_climate_data)\n",
        "\n",
        "average_temperature = transposed_climate_data[0].mean()\n",
        "average_precipitation = transposed_climate_data[1].mean()\n",
        "\n",
        "print(average_temperature)\n",
        "print(average_precipitation)"
      ],
      "id": "flGLcBCHuMZ9"
    },
    {
      "cell_type": "markdown",
      "id": "26fd094b-0fee-46f1-a4b8-73766813c42b",
      "metadata": {
        "tags": [],
        "id": "26fd094b-0fee-46f1-a4b8-73766813c42b"
      },
      "source": [
        "#  \n",
        "\n",
        "<div align=\"center\" style=\" font-size: 80%; text-align: center; margin: 0 auto\">\n",
        "<img src=\"https://raw.githubusercontent.com/Explore-AI/Pictures/master/ExploreAI_logos/EAI_Blue_Dark.png\"  style=\"width:200px\";/>\n",
        "</div>"
      ]
    }
  ],
  "metadata": {
    "kernelspec": {
      "display_name": "Python 3 (ipykernel)",
      "language": "python",
      "name": "python3"
    },
    "language_info": {
      "codemirror_mode": {
        "name": "ipython",
        "version": 3
      },
      "file_extension": ".py",
      "mimetype": "text/x-python",
      "name": "python",
      "nbconvert_exporter": "python",
      "pygments_lexer": "ipython3",
      "version": "3.11.5"
    },
    "colab": {
      "provenance": [],
      "include_colab_link": true
    }
  },
  "nbformat": 4,
  "nbformat_minor": 5
}